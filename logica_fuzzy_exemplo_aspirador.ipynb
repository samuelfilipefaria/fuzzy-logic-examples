{
 "cells": [
  {
   "cell_type": "markdown",
   "id": "1d0db12c-015a-429e-9d5b-b8aaa536e585",
   "metadata": {},
   "source": [
    "# Lógica Fuzzy - Exemplo Aspirador"
   ]
  },
  {
   "cell_type": "markdown",
   "id": "f9f05944-f6b8-4538-b2d6-e1ca0c2df8e4",
   "metadata": {},
   "source": [
    "## Baixando bibliotecas necessárias"
   ]
  },
  {
   "cell_type": "code",
   "execution_count": null,
   "id": "84044613-e0f6-4372-adc0-3f8e254671d9",
   "metadata": {
    "scrolled": true
   },
   "outputs": [],
   "source": [
    "pip install scikit-fuzzy"
   ]
  },
  {
   "cell_type": "code",
   "execution_count": null,
   "id": "21af5000-ac0d-4392-9386-307103fb29bf",
   "metadata": {},
   "outputs": [],
   "source": [
    "pip install networkx"
   ]
  },
  {
   "cell_type": "markdown",
   "id": "3decf0f5-6c04-4336-81f9-f3d4afd70aa7",
   "metadata": {},
   "source": [
    "## Importando outras bibliotecas importantes"
   ]
  },
  {
   "cell_type": "code",
   "execution_count": null,
   "id": "120fff9b-d877-4d2a-8c8a-07ed60f244a0",
   "metadata": {},
   "outputs": [],
   "source": [
    "import numpy as np\n",
    "import skfuzzy as fuzzy\n",
    "from skfuzzy import control as ctrl"
   ]
  },
  {
   "cell_type": "markdown",
   "id": "a4095147-c1e9-4930-922f-6ffa9859af95",
   "metadata": {},
   "source": [
    "## Definindo antecedentes"
   ]
  },
  {
   "cell_type": "code",
   "execution_count": null,
   "id": "94d52b9d-eb9c-4bf3-b6b9-b981eab50e69",
   "metadata": {},
   "outputs": [],
   "source": [
    "superficie = ctrl.Antecedent(np.arange(0, 6, 1), 'superficie')\n",
    "sujeira = ctrl.Antecedent(np.arange(0, 6, 1), 'sujeira')"
   ]
  },
  {
   "cell_type": "markdown",
   "id": "be224ada-9c61-4398-b6e1-deafe66d1867",
   "metadata": {},
   "source": [
    "## Definindo consequente"
   ]
  },
  {
   "cell_type": "code",
   "execution_count": null,
   "id": "665cf4d0-3621-4997-8016-0726eaf08838",
   "metadata": {},
   "outputs": [],
   "source": [
    "succao = ctrl.Consequent(np.arange(1, 11, 1), 'succao')"
   ]
  },
  {
   "cell_type": "markdown",
   "id": "eb00c03a-22be-4174-8442-daa14e1001fd",
   "metadata": {},
   "source": [
    "## Definindo variáveis linguísticas"
   ]
  },
  {
   "cell_type": "code",
   "execution_count": null,
   "id": "8da05c2a-b7c6-49d8-a5a8-7ca0c8eecd53",
   "metadata": {},
   "outputs": [],
   "source": [
    "superficie.automf(number = 3, names = ['fácil', 'moderada', 'difícil'])\n",
    "sujeira.automf(number = 3, names = ['leve', 'moderada', 'pesada'])"
   ]
  },
  {
   "cell_type": "code",
   "execution_count": null,
   "id": "6e3115d1-415b-43e6-aa85-6105e84e63e9",
   "metadata": {},
   "outputs": [],
   "source": [
    "succao['baixa'] = fuzzy.trimf(succao.universe, [1, 2.5, 4])\n",
    "succao['média'] = fuzzy.trimf(succao.universe, [4, 5.5, 7])\n",
    "succao['alta'] = fuzzy.trimf(succao.universe, [7, 8.5, 10])"
   ]
  },
  {
   "cell_type": "markdown",
   "id": "004c3cea-2cb5-4498-8328-f0cf5596b180",
   "metadata": {},
   "source": [
    "## Definindo regras"
   ]
  },
  {
   "cell_type": "code",
   "execution_count": null,
   "id": "96104f7f-d1ad-48e3-a586-b066237a8477",
   "metadata": {},
   "outputs": [],
   "source": [
    "regra1 = ctrl.Rule(superficie['fácil'] & sujeira['leve'], succao['baixa'])\n",
    "regra2 = ctrl.Rule(superficie['moderada'] & sujeira['leve'], succao['média'])\n",
    "regra3 = ctrl.Rule(superficie['difícil'] | sujeira['pesada'], succao['alta'])\n",
    "regra4 = ctrl.Rule(sujeira['moderada'], succao['média'])"
   ]
  },
  {
   "cell_type": "markdown",
   "id": "464a5197-f5f4-41f7-b55f-4045c9ec3ae7",
   "metadata": {},
   "source": [
    "## Criando sistema de controle"
   ]
  },
  {
   "cell_type": "code",
   "execution_count": null,
   "id": "d6b070be-ac97-4fc3-9bdb-fcfe88f4e796",
   "metadata": {},
   "outputs": [],
   "source": [
    "sistema_controle = ctrl.ControlSystem([regra1, regra2, regra3, regra4])\n",
    "sistema = ctrl.ControlSystemSimulation(sistema_controle)"
   ]
  },
  {
   "cell_type": "markdown",
   "id": "73895448-1825-4e01-83a6-fa8279229d64",
   "metadata": {},
   "source": [
    "## Testando"
   ]
  },
  {
   "cell_type": "code",
   "execution_count": null,
   "id": "c3bf2e35-5af7-46be-9069-a7601d5b7adc",
   "metadata": {},
   "outputs": [],
   "source": [
    "sistema.input['superficie'] = 5\n",
    "sistema.input['sujeira'] = 5\n",
    "sistema.compute()"
   ]
  },
  {
   "cell_type": "code",
   "execution_count": null,
   "id": "2042d3e2-1293-4b1c-af1e-b1d4dd57baec",
   "metadata": {},
   "outputs": [],
   "source": [
    "print(\"\\n\\n Valor da sucção baseado na superficie e na sujeira:\", sistema.output['succao'], \" \\n\\n\")\n",
    "succao.view(sim = sistema)"
   ]
  }
 ],
 "metadata": {
  "kernelspec": {
   "display_name": "Python 3 (ipykernel)",
   "language": "python",
   "name": "python3"
  },
  "language_info": {
   "codemirror_mode": {
    "name": "ipython",
    "version": 3
   },
   "file_extension": ".py",
   "mimetype": "text/x-python",
   "name": "python",
   "nbconvert_exporter": "python",
   "pygments_lexer": "ipython3",
   "version": "3.12.5"
  }
 },
 "nbformat": 4,
 "nbformat_minor": 5
}
